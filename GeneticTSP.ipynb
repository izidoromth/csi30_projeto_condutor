{
 "metadata": {
  "language_info": {
   "codemirror_mode": {
    "name": "ipython",
    "version": 3
   },
   "file_extension": ".py",
   "mimetype": "text/x-python",
   "name": "python",
   "nbconvert_exporter": "python",
   "pygments_lexer": "ipython3",
   "version": "3.9.4"
  },
  "orig_nbformat": 2,
  "kernelspec": {
   "name": "python394jvsc74a57bd0e61adc9c0d10834d9e66f982424e3662846a5206970e4bba376f937b8f4e36a0",
   "display_name": "Python 3.9.4 64-bit"
  },
  "metadata": {
   "interpreter": {
    "hash": "e61adc9c0d10834d9e66f982424e3662846a5206970e4bba376f937b8f4e36a0"
   }
  }
 },
 "nbformat": 4,
 "nbformat_minor": 2,
 "cells": [
  {
   "cell_type": "code",
   "execution_count": 1,
   "metadata": {},
   "outputs": [],
   "source": [
    "import pandas as pd \n",
    "import numpy as np \n",
    "import math \n",
    "import random \n",
    "from datetime import datetime\n",
    "from time import time, ctime"
   ]
  },
  {
   "cell_type": "code",
   "execution_count": 2,
   "metadata": {},
   "outputs": [],
   "source": [
    "#               0  1   2   3   4   5   6   7   8   9  10     ----- matriz com as distancias entre as US\n",
    "matriz = [    [ 0, 31, 17, 13, 13, 23, 8, 15, 15, 14, 31],  #0\n",
    "              [ 28, 0, 18, 33, 27, 16, 27, 17, 24, 30, 15], #1\n",
    "              [ 16, 18, 0, 23, 14, 26, 22, 14, 26, 27, 28], #2\n",
    "              [ 14, 31, 23, 0, 15, 32, 13, 19, 23, 15, 34], #3\n",
    "              [ 11, 25, 14, 13, 0, 27, 16, 14, 23, 22, 29], #4\n",
    "              [ 21, 19, 27, 29, 27, 0, 20, 16, 9, 21, 16],  #5\n",
    "              [ 8, 28, 20, 12, 16, 22, 0, 16, 15, 8, 30],   #6\n",
    "              [ 15, 15, 13, 20, 15, 15, 16, 0, 12, 19, 19], #7\n",
    "              [ 14, 20, 24, 22, 20, 9, 14, 13, 0, 16, 23],  #8\n",
    "              [ 14, 28, 24, 13, 21, 20, 8, 18, 15, 0, 29],  #9\n",
    "              [ 28, 15, 26, 33, 27, 16, 29, 19, 24, 31, 0]] #10\n",
    "\n",
    "\n",
    "# --- Modificador de tempo relacionado à região de cada US\n",
    "hrdepico = [1.465, 1.55, 1.35, 1.406, 1.7, 1.676, 1.475, 1.643, 1.517, 1.384, 1.559]"
   ]
  },
  {
   "cell_type": "code",
   "execution_count": 3,
   "metadata": {},
   "outputs": [],
   "source": [
    "# Classe para lidar com horario\n",
    "\n",
    "class hour:\n",
    "    def __init__(self, hora, minuto):\n",
    "        self.hora = hora\n",
    "        self.minuto = minuto"
   ]
  },
  {
   "cell_type": "code",
   "execution_count": 4,
   "metadata": {},
   "outputs": [],
   "source": [
    "def soma(hora1, hora2):\n",
    "    hora = hour\n",
    "    hora.hora = hora1.hora + hora2.hora\n",
    "    hora.minuto = hora1.minuto + hora2.minuto\n",
    "    if hora.minuto > 59:\n",
    "        hora.minuto = hora.minuto - 60\n",
    "        hora.hora += 1\n",
    "    return hora"
   ]
  },
  {
   "cell_type": "code",
   "execution_count": 5,
   "metadata": {},
   "outputs": [],
   "source": [
    "# Pega a distancia de uma US para a outra \n",
    "\n",
    "def distancia_us(a, b, matriz, modificador):\n",
    "    return (matriz[a][b])*modificador"
   ]
  },
  {
   "cell_type": "code",
   "execution_count": 6,
   "metadata": {},
   "outputs": [],
   "source": [
    "# obtem o vetor com a ordem em que as US devem ser visitadas\n",
    "\n",
    "def obter_caminho(tamanho, redo):\n",
    "    permutacao = []\n",
    "    indices = [i for i in range(11)]\n",
    "    permutacao.append(0)\n",
    "    for i in range(1, tamanho):\n",
    "        aleatoria = random.randint(1, len(indices)-1)\n",
    "        permutacao.append(indices[aleatoria])\n",
    "        indices.remove(indices[aleatoria])\n",
    "    permutacao.append(0)\n",
    "    return permutacao"
   ]
  },
  {
   "cell_type": "code",
   "execution_count": 7,
   "metadata": {},
   "outputs": [],
   "source": [
    "# Obter o tempo que o trajeto total vai demorar \n",
    "\n",
    "def obter_fitness(permutacao, matriz, hora, hrdepico):\n",
    "    fit = 0    \n",
    "    for i in range(len(permutacao)-1):\n",
    "        if ((hora.hora >= 7 and hora.hora <= 10) or (hora.hora >= 17 and hora.hora <=  20)):\n",
    "            modificador = hrdepico[i]\n",
    "        else: modificador = 1\n",
    "        fit = fit + distancia_us(permutacao[i], permutacao[i+1], matriz, modificador)\n",
    "    return fit"
   ]
  },
  {
   "cell_type": "code",
   "execution_count": 8,
   "metadata": {},
   "outputs": [],
   "source": [
    "#Seleciona n individuos aleatorios da populacao\n",
    "\n",
    "def seleciona(populacao, n):\n",
    "    selecao = []\n",
    "    pop = populacao.copy()\n",
    "    for i in range(0,n):\n",
    "        aleatorio = random.randint(0, len(pop)-1)\n",
    "        selecao.append(pop[aleatorio])\n",
    "        pop.remove(pop[aleatorio])\n",
    "    return selecao"
   ]
  },
  {
   "cell_type": "code",
   "execution_count": 9,
   "metadata": {},
   "outputs": [],
   "source": [
    "# Combina o \"pedaco\" dos pais para formar o filho e evitar a repeticao de US no vetor \n",
    "\n",
    "def combina(cross1, cross2, p):\n",
    "    filho1 = cross1.copy()\n",
    "    filho2 = cross2.copy()\n",
    "\n",
    "    for i in range(0, p):\n",
    "        filho1[i] = cross2[i]\n",
    "    \n",
    "    j = 0 \n",
    "\n",
    "    for i in range(p, len(cross2)):\n",
    "        if filho1[i] in filho1[0:p:]:\n",
    "            for w in range(j, len(cross1)):\n",
    "                if not (cross1[w] in filho1):\n",
    "                    filho1[i] = cross1[w]\n",
    "                    break\n",
    "            j = j + 1\n",
    "\n",
    "    for i in range(0, p):\n",
    "        filho2[i] = cross1[i]\n",
    "\n",
    "    j = 0\n",
    "    for i in range(p, len(cross1)):\n",
    "        if filho2[i] in filho2[0:p:]:\n",
    "            for w in range(j, len(cross2)):\n",
    "                if not (cross2[w] in filho2):\n",
    "                    filho2[i] = cross2[w]\n",
    "                    break\n",
    "            j = j + 1\n",
    "\n",
    "    return filho1, filho2"
   ]
  },
  {
   "cell_type": "code",
   "execution_count": 10,
   "metadata": {},
   "outputs": [],
   "source": [
    "#mutacao aleatoria nos filhos 1 e 2 - 1% de chance \n",
    "\n",
    "def mutation(filho1, filho2):\n",
    "    mutated1 = filho1.copy()\n",
    "    mutated2 = filho2,copy()\n",
    "    \n",
    "    if 2 == random.randint(0, 100):\n",
    "        aux = mutated1[len(mutated1)-1]\n",
    "        mutated1[len(mutated1)-1] = mutated1[len(mutated1)-2]\n",
    "        mutated1[len(mutated1)-2] = aux\n",
    "\n",
    "    if 2 == random.randint(0, 100):\n",
    "        aux = mutated2[len(mutated2)-1]\n",
    "        mutated2[len(mutated2)-1] = mutated2[len(mutated2)-2]\n",
    "        mutated2[len(mutated2)-2] = aux\n",
    "\n",
    "    return mutated1, mutated2"
   ]
  },
  {
   "cell_type": "code",
   "execution_count": 11,
   "metadata": {},
   "outputs": [],
   "source": [
    "# Crossover OX modificado\n",
    "\n",
    "def crossover(selecao, matriz):\n",
    "    selecao_copy = selecao.copy()\n",
    "    recombinacoes = []\n",
    "    for i in range(len(selecao_copy)//2):\n",
    "        c1 = random.randint(0, len(selecao_copy)-1)\n",
    "        cross1 = selecao_copy[c1]['permutacao']\n",
    "        selecao_copy.remove(selecao_copy[c1])\n",
    "\n",
    "        c2 = random.randint(0, len(selecao_copy)-1)\n",
    "        cross2 = selecao_copy[c2]['permutacao']\n",
    "        selecao_copy.remove(selecao_copy[c2])\n",
    "\n",
    "        tamanho_corte = random.randint(1, len(cross1)-1)\n",
    "        filho1, filho2 = combina(cross1, cross2, tamanho_corte)\n",
    "\n",
    "        fitness1 = obter_fitness(filho1, matriz, hora, hrdepico)\n",
    "        fitness2 = obter_fitness(filho2, matriz, hora, hrdepico)\n",
    "\n",
    "        recombinacoes.append({'fitness' : fitness1, 'permutacao' : filho1})\n",
    "        recombinacoes.append({'fitness' : fitness2, 'permutacao' : filho2})\n",
    "\n",
    "    if len(selecao_copy) % 2 != 0:\n",
    "        recombinacoes.append(selecao[random.randint(0, len(selecao) - 1)])\n",
    "\n",
    "    return recombinacoes"
   ]
  },
  {
   "cell_type": "code",
   "execution_count": 79,
   "metadata": {},
   "outputs": [],
   "source": [
    "# Atualiza o vetor de US a serem visitadas levando em consideração o modificador de hrdepico()\n",
    "# O horário de pico está definido como sendo da 7:00 ás 10:00 e das 17:00 ás 20:00 com base no Índice de Tempo de Viagem \n",
    "\n",
    "def prox_us(melhor_individuo, hora):\n",
    "\n",
    "    melhor_individuo['permutacao'].remove(melhor_individuo['permutacao'][0])\n",
    "    melhor_individuo['fitness'] = obter_fitness(melhor_individuo['permutacao'], matriz, hora, hrdepico)\n",
    "    if ((hora.hora >= 7 and hora.hora <= 10) or (hora.hora >= 17 and hora.hora <=  20)):\n",
    "            modificador = hrdepico[melhor_individuo['permutacao'][0]]\n",
    "    else: modificador = 1\n",
    "    if len(melhor_individuo['permutacao'])>1:\n",
    "        dist = ((matriz[melhor_individuo['permutacao'][0]][melhor_individuo['permutacao'][1]])*modificador)//1\n",
    "        return melhor_individuo, dist\n",
    "\n",
    "    else: return \"Retornou à Rodoviária\""
   ]
  },
  {
   "source": [
    "# Main"
   ],
   "cell_type": "markdown",
   "metadata": {}
  },
  {
   "cell_type": "code",
   "execution_count": 86,
   "metadata": {},
   "outputs": [],
   "source": [
    "# Informacoes para a rota\n",
    "\n",
    "hora = hour\n",
    "geracoes = 10000\n",
    "individuos = 1000\n",
    "convergencia = 0.95\n",
    "hora.hora = 14\n",
    "hora.minuto = 0"
   ]
  },
  {
   "cell_type": "code",
   "execution_count": 107,
   "metadata": {},
   "outputs": [
    {
     "output_type": "stream",
     "name": "stdout",
     "text": [
      "{'fitness': 215.34799999999998, 'permutacao': [0, 6, 9, 3, 4, 2, 7, 1, 10, 5, 8, 0]}\nWall time: 2.34 s\n"
     ]
    }
   ],
   "source": [
    "%%time \n",
    "#Calcula a rota inicial e informa o matorista \n",
    "\n",
    "populacao = [{'permutacao' : obter_caminho(11, 0), 'fitness' : 0} for i in range(individuos)]\n",
    "\n",
    "for individuo in populacao:\n",
    "    individuo['fitness'] = obter_fitness(individuo['permutacao'], matriz, hora, hrdepico)\n",
    "\n",
    "for i in range(0, geracoes):\n",
    "    selecionados = seleciona(populacao, individuos//2)\n",
    "\n",
    "    recombinacoes = crossover(populacao, matriz)\n",
    "\n",
    "    nova_populacao = selecionados + recombinacoes\n",
    "\n",
    "    nova_populacao.sort(key = lambda x : x['fitness'])\n",
    "\n",
    "    populacao = nova_populacao[0 : individuos : ]\n",
    "\n",
    "    fitnessess = [d['fitness'] for d in populacao]\n",
    "\n",
    "    if(len([individuo for individuo in populacao if individuo['fitness'] == min(fitnessess)])/individuos > convergencia):\n",
    "        break\n",
    "\n",
    "melhor_individuo = populacao[0]\n",
    "\n",
    "print(melhor_individuo)"
   ]
  },
  {
   "cell_type": "code",
   "execution_count": 105,
   "metadata": {},
   "outputs": [],
   "source": [
    "# Informacoes para a rota\n",
    "\n",
    "hora = hour\n",
    "hora.hora = 18\n",
    "hora.minuto = 0\n",
    "iter_pico = 0\n",
    "us_visitada = []"
   ]
  },
  {
   "cell_type": "code",
   "execution_count": 106,
   "metadata": {},
   "outputs": [
    {
     "output_type": "stream",
     "name": "stdout",
     "text": [
      "Rota recalculada: [0, 6, 9, 3, 4, 2, 7, 1, 10, 5, 8, 0] Proxima unidade em: 11.0 minutos\n"
     ]
    }
   ],
   "source": [
    "# Proxima unidade a ser visita e se for Hr de pico ele recalcula a rota, se a nova rota tiver fitness melhor que a primeira, ele substitui e informa o motorista \n",
    "\n",
    "if ((hora.hora >= 7 and hora.hora <= 10 and iter_pico == 0) or (hora.hora >= 17 and hora.hora <=  20 and iter_pico == 0)):\n",
    "    populacao = [{'permutacao' : obter_caminho(11, 1), 'fitness' : 0} for i in range(individuos)]\n",
    "    for x in range(len(us_visitada)):\n",
    "        populacao['permutacao'].remove(us_visitada[x])\n",
    "        populacao['permutacao'] = melhor_individuo['permutacao'][0] + populacao['permutacao']\n",
    "        populacao['permutacao'].remove(melhor_individuo['permutacao'][0])\n",
    "    for individuo in populacao:\n",
    "        individuo['fitness'] = obter_fitness(individuo['permutacao'], matriz, hora, hrdepico)\n",
    "\n",
    "    for i in range(0, geracoes):\n",
    "        selecionados = seleciona(populacao, individuos//2)\n",
    "\n",
    "        recombinacoes = crossover(populacao, matriz)\n",
    "\n",
    "        nova_populacao = selecionados + recombinacoes\n",
    "\n",
    "        nova_populacao.sort(key = lambda x : x['fitness'])\n",
    "\n",
    "        populacao = nova_populacao[0 : individuos : ]\n",
    "\n",
    "        fitnessess = [d['fitness'] for d in populacao]\n",
    "\n",
    "\n",
    "        if(len([individuo for individuo in populacao if individuo['fitness'] == min(fitnessess)])/individuos > convergencia):\n",
    "            break\n",
    "\n",
    "    iter_pico = 1\n",
    "    modificador = hrdepico[melhor_individuo['permutacao'][0]]\n",
    "    novo_individuo = populacao[0]\n",
    "    if novo_individuo['fitness'] < melhor_individuo['fitness']:\n",
    "        melhor_individuo = novo_individuo\n",
    "    print('Rota recalculada:',melhor_individuo['permutacao'],'Proxima unidade em:',(matriz[melhor_individuo['permutacao'][0]][melhor_individuo['permutacao'][1]]*modificador)//1,'minutos')\n",
    "\n",
    "elif len(melhor_individuo['permutacao'])>2:\n",
    "    us_visitada.append(melhor_individuo['permutacao'][0])\n",
    "    indv, dist = prox_us(melhor_individuo, hora)\n",
    "    print(indv, \"Proxima unidade em:\",dist,\"minutos\")\n",
    "else: print(prox_us(melhor_individuo, hora))"
   ]
  },
  {
   "cell_type": "code",
   "execution_count": null,
   "metadata": {},
   "outputs": [],
   "source": []
  },
  {
   "cell_type": "code",
   "execution_count": 74,
   "metadata": {},
   "outputs": [],
   "source": []
  },
  {
   "cell_type": "code",
   "execution_count": 76,
   "metadata": {},
   "outputs": [],
   "source": []
  },
  {
   "cell_type": "code",
   "execution_count": 77,
   "metadata": {},
   "outputs": [
    {
     "output_type": "execute_result",
     "data": {
      "text/plain": [
       "4.0"
      ]
     },
     "metadata": {},
     "execution_count": 77
    }
   ],
   "source": []
  },
  {
   "cell_type": "code",
   "execution_count": null,
   "metadata": {},
   "outputs": [],
   "source": []
  }
 ]
}